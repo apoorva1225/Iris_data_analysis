{
 "cells": [
  {
   "cell_type": "code",
   "execution_count": 11,
   "metadata": {},
   "outputs": [
    {
     "name": "stdout",
     "output_type": "stream",
     "text": [
      "Shape of dataset:  (150, 5)\n",
      "\n",
      "Descriptive stats of dataset: \n",
      "          sepal_len   sepal_wid   petal_len   petal_wid\n",
      "count  150.000000  150.000000  150.000000  150.000000\n",
      "mean     5.843333    3.054000    3.758667    1.198667\n",
      "std      0.828066    0.433594    1.764420    0.763161\n",
      "min      4.300000    2.000000    1.000000    0.100000\n",
      "25%      5.100000    2.800000    1.600000    0.300000\n",
      "50%      5.800000    3.000000    4.350000    1.300000\n",
      "75%      6.400000    3.300000    5.100000    1.800000\n",
      "max      7.900000    4.400000    6.900000    2.500000\n",
      "\n",
      "Skewness of attributes: \n",
      " sepal_len    0.314911\n",
      "sepal_wid    0.334053\n",
      "petal_len   -0.274464\n",
      "petal_wid   -0.104997\n",
      "dtype: float64\n",
      "\n",
      "Kurtosis of attributes: \n",
      " sepal_len   -0.552064\n",
      "sepal_wid    0.290781\n",
      "petal_len   -1.401921\n",
      "petal_wid   -1.339754\n",
      "dtype: float64\n"
     ]
    }
   ],
   "source": [
    "import pandas as pd\n",
    "\n",
    "#reading data\n",
    "data = pd.read_csv(\"iris_dataset.csv\")\n",
    "\n",
    "#descriptive stats\n",
    "print(\"Shape of dataset: \",data.shape)\n",
    "print(\"\\nDescriptive stats of dataset: \\n \", data.describe())\n",
    "print(\"\\nSkewness of attributes: \\n\",data.skew())\n",
    "print(\"\\nKurtosis of attributes: \\n\",data.kurtosis())"
   ]
  }
 ],
 "metadata": {
  "kernelspec": {
   "display_name": "Python 3",
   "language": "python",
   "name": "python3"
  },
  "language_info": {
   "codemirror_mode": {
    "name": "ipython",
    "version": 3
   },
   "file_extension": ".py",
   "mimetype": "text/x-python",
   "name": "python",
   "nbconvert_exporter": "python",
   "pygments_lexer": "ipython3",
   "version": "3.7.3"
  }
 },
 "nbformat": 4,
 "nbformat_minor": 2
}
