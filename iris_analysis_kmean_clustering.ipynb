{
 "cells": [
  {
   "cell_type": "code",
   "execution_count": 3,
   "metadata": {},
   "outputs": [
    {
     "name": "stdout",
     "output_type": "stream",
     "text": [
      "K-Means Clustering of Iris Data\n",
      "\n",
      "Default number of clusters:  8\n",
      "\n",
      "Clusters on training dataset: \n",
      " [3 3 2 4 1 4 5 2 2 6 1 4 6 3 2 1 0 1 4 3 5 3 6 0 6 6 0 2 3 5 3 7 0 0 4 4 6\n",
      " 0 1 1 6 5 4 6 5 1 1 5 1 1 7 2 4 5 1 0 1 2 0 3 4 2 7 4 0 7 0 4 0 1 2 0 3 0\n",
      " 3 0 0 4 3 6 3 2 2 0 0 6 3 7 0 6 4 0 6 2 3 1 1 4 0 1 3 7 2 5 6 6 6 3 0 2 5\n",
      " 2 2 6 6 6 2 0 4 1]\n",
      "\n",
      "Clusters on testing dataset: \n",
      " [1 5 3 2 0 3 5 2 3 4 3 4 3 6 0 2 1 0 1 4 1 0 5 3 3 2 4 1 7 0]\n",
      "\n",
      "Number of clusters:  3\n",
      "\n",
      "Clusters on training dataset: \n",
      " [1 1 2 2 0 2 0 2 2 2 0 2 2 1 2 0 1 0 2 1 0 1 2 1 2 2 1 2 1 0 1 2 1 1 2 2 2\n",
      " 1 0 0 2 0 2 2 0 0 0 0 0 0 2 2 2 0 0 1 0 2 1 1 2 2 2 2 1 2 1 2 1 0 2 1 1 1\n",
      " 1 1 1 0 1 2 1 2 2 1 1 2 1 2 1 2 0 1 0 2 1 0 0 2 1 0 1 2 2 0 0 2 2 1 1 2 0\n",
      " 2 2 2 2 2 2 1 2 0]\n",
      "\n",
      "Clusters on testing dataset: \n",
      " [0 0 1 2 1 1 0 2 1 2 1 2 1 2 1 2 0 1 0 2 0 1 0 1 1 2 2 0 2 1]\n"
     ]
    }
   ],
   "source": [
    "import pandas as pd\n",
    "from sklearn.cluster import KMeans\n",
    "from sklearn.model_selection import train_test_split\n",
    "\n",
    "print(\"K-Means Clustering of Iris Data\")\n",
    "#reading datasets\n",
    "iris_data = pd.read_csv(\"iris_dataset.csv\")\n",
    "\n",
    "#segregating dataset into input(attributes) and output(target variable) datasets\n",
    "#here target variable is flower_class\n",
    "X = iris_data.drop(columns=['flower_class'], axis=1)\n",
    "y = iris_data['flower_class']\n",
    "\n",
    "#spliting input and output datasets for testing n training\n",
    "x_train,x_test,y_train,y_test = train_test_split(X,y,test_size=0.2)\n",
    "\n",
    "#creating model\n",
    "model = KMeans()\n",
    "\n",
    "#training model\n",
    "model.fit(x_train,y_train)\n",
    "\n",
    "#number of clusters\n",
    "print(\"\\nDefault number of clusters: \", model.n_clusters)\n",
    "\n",
    "#predict target variable (flower_class) based on the attributes in input dataset\n",
    "#prediction on training set\n",
    "train_predictions = model.predict(x_train)\n",
    "print(\"\\nClusters on training dataset: \\n\", train_predictions)\n",
    "\n",
    "#prediction on testing set\n",
    "test_predictions = model.predict(x_test)\n",
    "print(\"\\nClusters on testing dataset: \\n\", test_predictions)\n",
    "\n",
    "#creating new model\n",
    "model = KMeans(n_clusters=3)\n",
    "\n",
    "#training model\n",
    "model.fit(x_train,y_train)\n",
    "\n",
    "#number of clusters\n",
    "print(\"\\nNumber of clusters: \", model.n_clusters)\n",
    "\n",
    "#predict target variable (flower_class) based on the attributes in input dataset\n",
    "#prediction on training set\n",
    "new_train_predictions = model.predict(x_train)\n",
    "print(\"\\nClusters on training dataset: \\n\", new_train_predictions)\n",
    "\n",
    "#prediction on testing set\n",
    "new_test_predictions = model.predict(x_test)\n",
    "print(\"\\nClusters on testing dataset: \\n\", new_test_predictions)\n"
   ]
  },
  {
   "cell_type": "code",
   "execution_count": null,
   "metadata": {},
   "outputs": [],
   "source": []
  }
 ],
 "metadata": {
  "kernelspec": {
   "display_name": "Python 3",
   "language": "python",
   "name": "python3"
  },
  "language_info": {
   "codemirror_mode": {
    "name": "ipython",
    "version": 3
   },
   "file_extension": ".py",
   "mimetype": "text/x-python",
   "name": "python",
   "nbconvert_exporter": "python",
   "pygments_lexer": "ipython3",
   "version": "3.7.3"
  }
 },
 "nbformat": 4,
 "nbformat_minor": 2
}
